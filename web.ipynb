{
 "cells": [
  {
   "cell_type": "code",
   "execution_count": 12,
   "metadata": {},
   "outputs": [],
   "source": [
    "# import libraries \n",
    "\n",
    "from bs4 import BeautifulSoup\n",
    "import requests\n",
    "import time\n",
    "import datetime\n",
    "\n",
    "import smtplib"
   ]
  },
  {
   "cell_type": "code",
   "execution_count": 13,
   "metadata": {},
   "outputs": [
    {
     "name": "stdout",
     "output_type": "stream",
     "text": [
      "\n",
      "\n",
      "                     Seek Buy Love Funny Spreadsheet T-Shirt, Data Analyst Tee, Accountant Gift, Office Humor Shirt, Casual Graphic Top, Unisex Tee\n",
      "                    \n",
      "\n",
      "\n",
      "\n",
      "\n",
      "\n",
      "                     ₹449.00 with 25 percent savings\n",
      "                    \n",
      "\n",
      "                     -25%\n",
      "                    \n",
      "\n",
      "\n",
      "\n",
      "\n",
      "\n",
      "                       ₹\n",
      "                      \n",
      "\n",
      "                       449\n",
      "                      \n",
      "\n",
      "\n",
      "\n",
      "\n",
      "\n",
      "\n",
      "\n",
      "\n",
      "\n",
      "                       M.R.P.: ₹600.00\n",
      "                      \n",
      "\n",
      "                       M.R.P.:\n",
      "                       \n",
      "\n",
      "                         ₹600\n",
      "                        \n",
      "\n",
      "                         ₹600\n",
      "                        \n",
      "\n",
      "\n",
      "\n",
      "\n",
      "\n",
      "\n",
      "\n",
      "\n",
      "\n",
      "\n"
     ]
    }
   ],
   "source": [
    "# Connect to Website and pull in data\n",
    "\n",
    "URL = 'https://www.amazon.in/Seek-Buy-Love-Spreadsheet-Accountant/dp/B0CZJ82YT1/ref=sr_1_1?crid=287UDTGWGF0M2&dib=eyJ2IjoiMSJ9.EO4RxmrLIYlhINjgwyDqhPLTbl5pomiFL3ZjFc1gWxmMrRAdIhclZ5oy3pqNbkivm34K6coLpMNWz_fLQI2ZarKPi53TJSvEoqwWfw_fWGyrO5hMuHpGcW8tK0oPivqsi8Z14k-DnP_V43I7UIN9PlUP0-9a4VWq6MVPF_DTsKR-f0f9G2GqK_7E5-0uSNh31DGU5Wf-HDt5S7CVN0R4sCNW3F5d30xZr0cTsNzZZORnf57G9CjTlE3kK-KPoqR5wvPNxnIcjvf_aV4cffgmLS6dGdjFS_QEjhKPinJKDOM.1a_3RzZyOHDRwrYnqBgy_inJ2eFMHNE2HuFkKwRAzgw&dib_tag=se&keywords=data+%2B+analyst%2B+t+shirt&qid=1715621686&sprefix=data+%2B+analyst%2B+t+shirt%2Caps%2C355&sr=8-1'\n",
    "\n",
    "headers = {\"User-Agent\": \"Mozilla/5.0 (Windows NT 10.0; Win64; x64) AppleWebKit/537.36 (KHTML, like Gecko) Chrome/78.0.3904.108 Safari/537.36\", \"Accept-Encoding\":\"gzip, deflate\", \"Accept\":\"text/html,application/xhtml+xml,application/xml;q=0.9,*/*;q=0.8\", \"DNT\":\"1\",\"Connection\":\"close\", \"Upgrade-Insecure-Requests\":\"1\"}\n",
    "\n",
    "page = requests.get(URL, headers=headers)\n",
    "\n",
    "soup1 = BeautifulSoup(page.content, \"html.parser\")\n",
    "\n",
    "soup2 = BeautifulSoup(soup1.prettify(), \"html.parser\")\n",
    "\n",
    "title = soup2.find(id='title').get_text()\n",
    "\n",
    "price = soup2.find(id='corePriceDisplay_desktop_feature_div').get_text()\n",
    "\n",
    "\n",
    "print(title)\n",
    "print(price)"
   ]
  },
  {
   "cell_type": "code",
   "execution_count": 14,
   "metadata": {},
   "outputs": [
    {
     "name": "stdout",
     "output_type": "stream",
     "text": [
      "Seek Buy Love Funny Spreadsheet T-Shirt, Data Analyst Tee, Accountant Gift, Office Humor Shirt, Casual Graphic Top, Unisex Tee\n",
      "449.00 with 25 percent savings\n",
      "                    \n",
      "\n",
      "                     -25%\n",
      "                    \n",
      "\n",
      "\n",
      "\n",
      "\n",
      "\n",
      "                       ₹\n",
      "                      \n",
      "\n",
      "                       449\n",
      "                      \n",
      "\n",
      "\n",
      "\n",
      "\n",
      "\n",
      "\n",
      "\n",
      "\n",
      "\n",
      "                       M.R.P.: ₹600.00\n",
      "                      \n",
      "\n",
      "                       M.R.P.:\n",
      "                       \n",
      "\n",
      "                         ₹600\n",
      "                        \n",
      "\n",
      "                         ₹600\n"
     ]
    }
   ],
   "source": [
    "# Clean up the data a little bit\n",
    "\n",
    "price = price.strip()[1:]\n",
    "title = title.strip()\n",
    "\n",
    "print(title)\n",
    "print(price)"
   ]
  },
  {
   "cell_type": "code",
   "execution_count": 15,
   "metadata": {},
   "outputs": [
    {
     "name": "stdout",
     "output_type": "stream",
     "text": [
      "2024-05-13\n"
     ]
    }
   ],
   "source": [
    "# Create a Timestamp for your output to track when data was collected\n",
    "\n",
    "import datetime\n",
    "\n",
    "today = datetime.date.today()\n",
    "\n",
    "print(today)"
   ]
  },
  {
   "cell_type": "code",
   "execution_count": 16,
   "metadata": {},
   "outputs": [],
   "source": [
    "# Create CSV and write headers and data into the file\n",
    "\n",
    "import csv \n",
    "\n",
    "header = ['Title', 'Price', 'Date']\n",
    "data = [title, price, today]\n",
    "\n",
    "\n",
    "with open('AmazonWebScraperDataset.csv', 'w', newline='', encoding='UTF8') as f:\n",
    "    writer = csv.writer(f)\n",
    "    writer.writerow(header)\n",
    "    writer.writerow(data)\n",
    "    "
   ]
  },
  {
   "cell_type": "code",
   "execution_count": 17,
   "metadata": {},
   "outputs": [
    {
     "name": "stdout",
     "output_type": "stream",
     "text": [
      "                                               Title  \\\n",
      "0  Seek Buy Love Funny Spreadsheet T-Shirt, Data ...   \n",
      "\n",
      "                                               Price        Date  \n",
      "0  449.00 with 25 percent savings\\n              ...  2024-05-13  \n"
     ]
    }
   ],
   "source": [
    "import pandas as pd\n",
    "\n",
    "df = pd.read_csv(r'C:\\Users\\SIVABALAJI S\\Desktop\\web scarp\\AmazonWebScraperDataset.csv')\n",
    "\n",
    "print(df)"
   ]
  },
  {
   "cell_type": "code",
   "execution_count": 18,
   "metadata": {},
   "outputs": [],
   "source": [
    "#Now we are appending data to the csv\n",
    "\n",
    "with open('AmazonWebScraperDataset.csv', 'a+', newline='', encoding='UTF8') as f:\n",
    "    writer = csv.writer(f)\n",
    "    writer.writerow(data)"
   ]
  },
  {
   "cell_type": "code",
   "execution_count": 19,
   "metadata": {},
   "outputs": [],
   "source": [
    "#Combine all of the above code into one function\n",
    "\n",
    "\n",
    "def check_price():\n",
    "    URL = 'https://www.amazon.in/Seek-Buy-Love-Spreadsheet-Accountant/dp/B0CZJ82YT1/ref=sr_1_1?crid=287UDTGWGF0M2&dib=eyJ2IjoiMSJ9.EO4RxmrLIYlhINjgwyDqhPLTbl5pomiFL3ZjFc1gWxmMrRAdIhclZ5oy3pqNbkivm34K6coLpMNWz_fLQI2ZarKPi53TJSvEoqwWfw_fWGyrO5hMuHpGcW8tK0oPivqsi8Z14k-DnP_V43I7UIN9PlUP0-9a4VWq6MVPF_DTsKR-f0f9G2GqK_7E5-0uSNh31DGU5Wf-HDt5S7CVN0R4sCNW3F5d30xZr0cTsNzZZORnf57G9CjTlE3kK-KPoqR5wvPNxnIcjvf_aV4cffgmLS6dGdjFS_QEjhKPinJKDOM.1a_3RzZyOHDRwrYnqBgy_inJ2eFMHNE2HuFkKwRAzgw&dib_tag=se&keywords=data+%2B+analyst%2B+t+shirt&qid=1715621686&sprefix=data+%2B+analyst%2B+t+shirt%2Caps%2C355&sr=8-1'\n",
    "\n",
    "    headers = {\"User-Agent\": \"Mozilla/5.0 (Windows NT 10.0; Win64; x64) AppleWebKit/537.36 (KHTML, like Gecko) Chrome/78.0.3904.108 Safari/537.36\", \"Accept-Encoding\":\"gzip, deflate\", \"Accept\":\"text/html,application/xhtml+xml,application/xml;q=0.9,*/*;q=0.8\", \"DNT\":\"1\",\"Connection\":\"close\", \"Upgrade-Insecure-Requests\":\"1\"}\n",
    "\n",
    "    page = requests.get(URL, headers=headers)\n",
    "\n",
    "    soup1 = BeautifulSoup(page.content, \"html.parser\")\n",
    "\n",
    "    soup2 = BeautifulSoup(soup1.prettify(), \"html.parser\")\n",
    "\n",
    "    title = soup2.find(id='title').get_text()\n",
    "\n",
    "    price = soup2.find(id='corePriceDisplay_desktop_feature_div').get_text()\n",
    "\n",
    "    price = price.strip()[1:]\n",
    "    title = title.strip()\n",
    "\n",
    "    import datetime\n",
    "\n",
    "    today = datetime.date.today()\n",
    "    \n",
    "    import csv \n",
    "\n",
    "    header = ['Title', 'Price', 'Date']\n",
    "    data = [title, price, today]\n",
    "\n",
    "    with open('AmazonWebScraperDataset.csv', 'a+', newline='', encoding='UTF8') as f:\n",
    "        writer = csv.writer(f)\n",
    "        writer.writerow(data)"
   ]
  },
  {
   "cell_type": "code",
   "execution_count": 23,
   "metadata": {},
   "outputs": [],
   "source": [
    "\n",
    "# # Runs check_price after a set time and inputs data into your CSV\n",
    "\n",
    "# while(True):\n",
    "#     check_price()\n",
    "#     time.sleep(86400)"
   ]
  },
  {
   "cell_type": "code",
   "execution_count": 1,
   "metadata": {},
   "outputs": [
    {
     "name": "stdout",
     "output_type": "stream",
     "text": [
      "                                               Title  \\\n",
      "0  Seek Buy Love Funny Spreadsheet T-Shirt, Data ...   \n",
      "1  Seek Buy Love Funny Spreadsheet T-Shirt, Data ...   \n",
      "2  Seek Buy Love Funny Spreadsheet T-Shirt, Data ...   \n",
      "3  Seek Buy Love Funny Spreadsheet T-Shirt, Data ...   \n",
      "4  Seek Buy Love Funny Spreadsheet T-Shirt, Data ...   \n",
      "5  Seek Buy Love Funny Spreadsheet T-Shirt, Data ...   \n",
      "\n",
      "                                               Price        Date  \n",
      "0  449.00 with 25 percent savings\\n              ...  2024-05-13  \n",
      "1  449.00 with 25 percent savings\\n              ...  2024-05-13  \n",
      "2  449.00 with 25 percent savings\\n              ...  2024-05-13  \n",
      "3  449.00 with 25 percent savings\\n              ...  2024-05-13  \n",
      "4  449.00 with 25 percent savings\\n              ...  2024-05-13  \n",
      "5  449.00 with 25 percent savings\\n              ...  2024-05-13  \n"
     ]
    }
   ],
   "source": [
    "import pandas as pd\n",
    "\n",
    "df = pd.read_csv(r'C:\\Users\\SIVABALAJI S\\Desktop\\web scarp\\AmazonWebScraperDataset.csv')\n",
    "\n",
    "print(df)"
   ]
  },
  {
   "cell_type": "code",
   "execution_count": 3,
   "metadata": {},
   "outputs": [],
   "source": [
    "# If uou want to try sending yourself an email (just for fun) when a price hits below a certain level you can try it\n",
    "# out with this script\n",
    "\n",
    "def send_mail():\n",
    "    server = smtplib.SMTP_SSL('smtp.gmail.com',465)\n",
    "    server.ehlo()\n",
    "    #server.starttls()\n",
    "    server.ehlo()\n",
    "    server.login('sivabalaji.2003127@srec.ac.in','siva@123')\n",
    "    \n",
    "    subject = \"The Shirt you want is below $15! Now is your chance to buy!\"\n",
    "    body = \"Alex, This is the moment we have been waiting for. Now is your chance to pick up the shirt of your dreams. Don't mess it up! Link here: https://www.amazon.com/Funny-Data-Systems-Business-Analyst/dp/B07FNW9FGJ/ref=sr_1_3?dchild=1&keywords=data+analyst+tshirt&qid=1626655184&sr=8-3\"\n",
    "   \n",
    "    msg = f\"Subject: {subject}\\n\\n{body}\"\n",
    "    \n",
    "    server.sendmail(\n",
    "        'sivabalaji10000@gmail.com',\n",
    "        msg\n",
    "     \n",
    "    )"
   ]
  }
 ],
 "metadata": {
  "kernelspec": {
   "display_name": "Python 3",
   "language": "python",
   "name": "python3"
  },
  "language_info": {
   "codemirror_mode": {
    "name": "ipython",
    "version": 3
   },
   "file_extension": ".py",
   "mimetype": "text/x-python",
   "name": "python",
   "nbconvert_exporter": "python",
   "pygments_lexer": "ipython3",
   "version": "3.11.1"
  }
 },
 "nbformat": 4,
 "nbformat_minor": 2
}
